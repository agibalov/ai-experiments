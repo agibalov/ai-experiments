{
 "cells": [
  {
   "cell_type": "code",
   "execution_count": 1,
   "metadata": {},
   "outputs": [
    {
     "data": {
      "image/png": "[encoded data removed]",
      "text/plain": [
       "<Figure size 864x1152 with 6 Axes>"
      ]
     },
     "metadata": {},
     "output_type": "display_data"
    }
   ],
   "source": [
    "%matplotlib inline\n",
    "import cv2\n",
    "import matplotlib.pyplot as plt\n",
    "import imutils\n",
    "import numpy as np\n",
    "\n",
    "from PIL import Image, ImageSequence, TiffTags\n",
    "\n",
    "TIFF_PAGE_NAME_TAG_ID = [k for k,v in TiffTags.TAGS.items() if v == 'PageName'][0]\n",
    "\n",
    "image = Image.open('template.tif')\n",
    "layers = {}\n",
    "for layer in ImageSequence.Iterator(image):\n",
    "    layer_name = layer.tag[TIFF_PAGE_NAME_TAG_ID][0]\n",
    "    layer_image = np.array(layer.convert('RGB'))\n",
    "    layers[layer_name] = layer_image\n",
    "\n",
    "background_image = layers['background']\n",
    "\n",
    "plt.figure(figsize=(12, 16))\n",
    "\n",
    "for i, layer_name in enumerate([k for k in layers.keys() if k != 'background']):\n",
    "    mask_image = layers[layer_name]\n",
    "    mask_image = cv2.cvtColor(mask_image, cv2.COLOR_RGB2GRAY)\n",
    "    contours, hierarchy = cv2.findContours(mask_image, cv2.RETR_TREE, cv2.CHAIN_APPROX_SIMPLE)\n",
    "    if len(contours) != 1:\n",
    "        raise Exception(f'Expected exactly one contour, got {len(contours)}')\n",
    "    mask_x, mask_y, mask_w, mask_h = cv2.boundingRect(contours[0])\n",
    "    \n",
    "    digit_image = background_image[mask_y:mask_y+mask_h, mask_x:mask_x+mask_w]\n",
    "    digit_image = cv2.cvtColor(digit_image, cv2.COLOR_RGB2GRAY)\n",
    "    digit_image = cv2.erode(digit_image, np.ones((2, 2), np.uint8), iterations=2)\n",
    "    ret, digit_image = cv2.threshold(digit_image, 127, 255, cv2.THRESH_BINARY)\n",
    "    digit_image = cv2.bitwise_and(digit_image, digit_image, \n",
    "                                  mask=mask_image[mask_y:mask_y+mask_h, mask_x:mask_x+mask_w])\n",
    "    \n",
    "    nonzero_coords = cv2.findNonZero(digit_image)\n",
    "    nonzero_x, nonzero_y, nonzero_w, nonzero_h = cv2.boundingRect(nonzero_coords)\n",
    "    digit_image = digit_image[nonzero_y:nonzero_y+nonzero_h, nonzero_x:nonzero_x+nonzero_w]\n",
    "\n",
    "    plt.subplot(4, 4, i + 1)\n",
    "    plt.title(layer_name)\n",
    "    plt.xticks([])\n",
    "    plt.yticks([])\n",
    "    plt.imshow(digit_image)"
   ]
  }
 ],
 "metadata": {
  "kernelspec": {
   "display_name": "Python 3",
   "language": "python",
   "name": "python3"
  },
  "language_info": {
   "codemirror_mode": {
    "name": "ipython",
    "version": 3
   },
   "file_extension": ".py",
   "mimetype": "text/x-python",
   "name": "python",
   "nbconvert_exporter": "python",
   "pygments_lexer": "ipython3",
   "version": "3.7.1"
  }
 },
 "nbformat": 4,
 "nbformat_minor": 2
}

{
 "cells": [
  {
   "cell_type": "markdown",
   "metadata": {},
   "source": [
    "# A sympy hello world\n",
    "\n",
    "For hypothesis $h_\\theta(x)=\\theta_0 + \\theta_1 x$ the cost function is $J(\\theta_0, \\theta_1)=\\frac{1}{2m}\\sum_{i=1}^m (h_\\theta(x^{(i)})-y^{(i)})^2$.\n",
    "\n",
    "Calculate the partial derivatives $\\frac{\\partial}{\\partial \\theta_0} J(\\theta_0, \\theta_1)$ and $\\frac{\\partial}{\\partial \\theta_1} J(\\theta_0, \\theta_1)$."
   ]
  },
  {
   "cell_type": "code",
   "execution_count": 1,
   "metadata": {},
   "outputs": [
    {
     "data": {
      "image/png": "[encoded data removed]",
      "text/latex": [
       "$$\\frac{\\partial}{\\partial \\theta_{0}} \\frac{\\sum_{i=1}^{m} \\left(\\theta_{0} + \\theta_{1} {x}_{i} - {y}_{i}\\right)^{2}}{2 m} = \\frac{\\sum_{i=1}^{m} \\left(2 \\theta_{0} + 2 \\theta_{1} {x}_{i} - 2 {y}_{i}\\right)}{2 m}$$"
      ],
      "text/plain": [
       "   ⎛  m                         ⎞     m                              \n",
       "   ⎜ ___                        ⎟    ___                             \n",
       "   ⎜ ╲                          ⎟    ╲                               \n",
       "   ⎜  ╲                        2⎟     ╲   (2⋅θ₀ + 2⋅θ₁⋅x[i] - 2⋅y[i])\n",
       "   ⎜  ╱   (θ₀ + θ₁⋅x[i] - y[i]) ⎟     ╱                              \n",
       "   ⎜ ╱                          ⎟    ╱                               \n",
       "   ⎜ ‾‾‾                        ⎟    ‾‾‾                             \n",
       " ∂ ⎜i = 1                       ⎟   i = 1                            \n",
       "───⎜────────────────────────────⎟ = ─────────────────────────────────\n",
       "∂θ₀⎝            2⋅m             ⎠                  2⋅m               "
      ]
     },
     "metadata": {},
     "output_type": "display_data"
    },
    {
     "data": {
      "image/png": "[encoded data removed]",
      "text/latex": [
       "$$\\frac{\\partial}{\\partial \\theta_{1}} \\frac{\\sum_{i=1}^{m} \\left(\\theta_{0} + \\theta_{1} {x}_{i} - {y}_{i}\\right)^{2}}{2 m} = \\frac{\\sum_{i=1}^{m} 2 \\left(\\theta_{0} + \\theta_{1} {x}_{i} - {y}_{i}\\right) {x}_{i}}{2 m}$$"
      ],
      "text/plain": [
       "   ⎛  m                         ⎞     m                               \n",
       "   ⎜ ___                        ⎟    ___                              \n",
       "   ⎜ ╲                          ⎟    ╲                                \n",
       "   ⎜  ╲                        2⎟     ╲   2⋅(θ₀ + θ₁⋅x[i] - y[i])⋅x[i]\n",
       "   ⎜  ╱   (θ₀ + θ₁⋅x[i] - y[i]) ⎟     ╱                               \n",
       "   ⎜ ╱                          ⎟    ╱                                \n",
       "   ⎜ ‾‾‾                        ⎟    ‾‾‾                              \n",
       " ∂ ⎜i = 1                       ⎟   i = 1                             \n",
       "───⎜────────────────────────────⎟ = ──────────────────────────────────\n",
       "∂θ₁⎝            2⋅m             ⎠                  2⋅m                "
      ]
     },
     "metadata": {},
     "output_type": "display_data"
    }
   ],
   "source": [
    "from IPython.display import display\n",
    "from sympy import *\n",
    "init_printing()\n",
    "\n",
    "x = IndexedBase('x')\n",
    "y = IndexedBase('y')\n",
    "theta0, theta1, m, i = symbols('theta_0 theta_1 m i')\n",
    "\n",
    "cost_f = (1/(2*m)) * Sum((theta0 + theta1*x[i] - y[i]) ** 2, (i, 1, m))\n",
    "\n",
    "theta0_derivative = Derivative(cost_f, theta0)\n",
    "display(Eq(theta0_derivative, theta0_derivative.doit()))\n",
    "\n",
    "theta1_derivative = Derivative(cost_f, theta1)\n",
    "display(Eq(theta1_derivative, theta1_derivative.doit()))"
   ]
  }
 ],
 "metadata": {
  "kernelspec": {
   "display_name": "Python 3",
   "language": "python",
   "name": "python3"
  },
  "language_info": {
   "codemirror_mode": {
    "name": "ipython",
    "version": 3
   },
   "file_extension": ".py",
   "mimetype": "text/x-python",
   "name": "python",
   "nbconvert_exporter": "python",
   "pygments_lexer": "ipython3",
   "version": "3.7.3"
  }
 },
 "nbformat": 4,
 "nbformat_minor": 2
}

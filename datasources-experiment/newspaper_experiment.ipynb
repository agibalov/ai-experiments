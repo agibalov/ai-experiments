{
 "cells": [
  {
   "cell_type": "code",
   "execution_count": 1,
   "metadata": {},
   "outputs": [
    {
     "name": "stdout",
     "output_type": "stream",
     "text": [
      "\n",
      "******************\n",
      "Title: New Year, new laws: Obamacare, pot, guns and drones\n",
      "\n",
      "******************\n",
      "Authors: ['Cnn Wire']\n",
      "\n",
      "******************\n",
      "Publish date: 2013-12-30 00:00:00\n",
      "\n",
      "******************\n",
      "Text: × New Year, new laws: Obamacare, pot, guns and drones\n",
      "\n",
      "By Leigh Ann Caldwell\n",
      "\n",
      "WASHINGTON (CNN) — Not everyone subscribes to a New Year’s resolution, but Americans will be required to follow new laws i\n",
      "\n",
      "******************\n",
      "Top image: https://localtvkstu.files.wordpress.com/2012/04/national-news-e1486938949489.jpg?quality=85&strip=all\n",
      "\n",
      "******************\n",
      "Movies: []\n",
      "\n",
      "******************\n",
      "Keywords: ['laws', 'state', 'wage', 'national', 'minimum', 'leave', 'guns', 'family', 'states', 'law', 'obamacare', 'pot', 'drones']\n",
      "\n",
      "******************\n",
      "Summary: × New Year, new laws: Obamacare, pot, guns and dronesBy Leigh Ann CaldwellWASHINGTON (CNN) — Not everyone subscribes to a New Year’s resolution, but Americans will be required to follow new laws in 2014.\n",
      "Oregon: Family leave in Oregon has been expanded to allow eligible employees two weeks of paid leave to handle the death of a family member.\n",
      "Minimum wage and former felon employmentWorkers in 13 states and four cities will see increases to the minimum wage.\n",
      "New Jersey residents voted to raise the state’s minimum wage by $1 to $8.25 per hour.\n",
      "California is also raising its minimum wage to $9 per hour, but workers must wait until July to see the addition.\n"
     ]
    }
   ],
   "source": [
    "from newspaper import Article\n",
    "\n",
    "url = 'http://fox13now.com/2013/12/30/new-year-new-laws-obamacare-pot-guns-and-drones/'\n",
    "article = Article(url)\n",
    "\n",
    "article.download()\n",
    "article.parse()\n",
    "article.nlp()\n",
    "\n",
    "print('\\n******************\\nTitle:', article.title)\n",
    "print('\\n******************\\nAuthors:', article.authors)\n",
    "print('\\n******************\\nPublish date:', article.publish_date)\n",
    "print('\\n******************\\nText:', article.text[:200])\n",
    "print('\\n******************\\nTop image:', article.top_image)\n",
    "print('\\n******************\\nMovies:', article.movies)\n",
    "print('\\n******************\\nKeywords:', article.keywords)\n",
    "print('\\n******************\\nSummary:', article.summary)"
   ]
  }
 ],
 "metadata": {
  "kernelspec": {
   "display_name": "Python 3",
   "language": "python",
   "name": "python3"
  },
  "language_info": {
   "codemirror_mode": {
    "name": "ipython",
    "version": 3
   },
   "file_extension": ".py",
   "mimetype": "text/x-python",
   "name": "python",
   "nbconvert_exporter": "python",
   "pygments_lexer": "ipython3",
   "version": "3.7.1"
  }
 },
 "nbformat": 4,
 "nbformat_minor": 2
}

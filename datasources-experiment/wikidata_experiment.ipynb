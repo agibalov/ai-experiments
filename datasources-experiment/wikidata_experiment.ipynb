{
 "cells": [
  {
   "cell_type": "code",
   "execution_count": 1,
   "metadata": {},
   "outputs": [
    {
     "data": {
      "text/plain": [
       "['Ireland',\n",
       " 'Hungary',\n",
       " 'Spain',\n",
       " 'Belgium',\n",
       " 'Luxembourg',\n",
       " 'Finland',\n",
       " 'Sweden',\n",
       " 'Denmark',\n",
       " 'Poland',\n",
       " 'Lithuania',\n",
       " 'Italy',\n",
       " 'Austria',\n",
       " 'Greece',\n",
       " 'Portugal',\n",
       " 'Netherlands',\n",
       " 'France',\n",
       " 'United Kingdom',\n",
       " 'Germany',\n",
       " 'Estonia',\n",
       " 'Latvia',\n",
       " 'Czech Republic',\n",
       " 'Slovakia',\n",
       " 'Slovenia',\n",
       " 'Romania',\n",
       " 'Bulgaria',\n",
       " 'Croatia',\n",
       " 'Cyprus',\n",
       " 'Malta',\n",
       " 'Kingdom of the Netherlands']"
      ]
     },
     "execution_count": 1,
     "metadata": {},
     "output_type": "execute_result"
    }
   ],
   "source": [
    "from SPARQLWrapper import SPARQLWrapper, JSON\n",
    "\n",
    "# https://www.wikidata.org/wiki/Property:P463 - \"member of\"\n",
    "# https://www.wikidata.org/wiki/Q458 - \"European Union\"\n",
    "\n",
    "sparql = SPARQLWrapper('https://query.wikidata.org/bigdata/namespace/wdq/sparql')\n",
    "sparql.setQuery('''\n",
    "    SELECT ?country ?countryLabel WHERE {\n",
    "        ?country wdt:P463 wd:Q458.\n",
    "        SERVICE wikibase:label { bd:serviceParam wikibase:language \"[AUTO_LANGUAGE],en\". }\n",
    "    }\n",
    "''')\n",
    "sparql.setReturnFormat(JSON)\n",
    "result = sparql.query().convert()\n",
    "[x['countryLabel']['value'] for x in result['results']['bindings']]"
   ]
  }
 ],
 "metadata": {
  "kernelspec": {
   "display_name": "Python 3",
   "language": "python",
   "name": "python3"
  },
  "language_info": {
   "codemirror_mode": {
    "name": "ipython",
    "version": 3
   },
   "file_extension": ".py",
   "mimetype": "text/x-python",
   "name": "python",
   "nbconvert_exporter": "python",
   "pygments_lexer": "ipython3",
   "version": "3.7.1"
  }
 },
 "nbformat": 4,
 "nbformat_minor": 2
}

{
 "cells": [
  {
   "cell_type": "code",
   "execution_count": 1,
   "metadata": {},
   "outputs": [
    {
     "data": {
      "text/plain": [
       "[{'e': {'type': 'uri', 'value': 'http://dbpedia.org/resource/Anne_Hathaway'},\n",
       "  'description': {'type': 'literal',\n",
       "   'xml:lang': 'en',\n",
       "   'value': 'American actress'}},\n",
       " {'e': {'type': 'uri',\n",
       "   'value': \"http://dbpedia.org/resource/Anne_Hathaway_(Shakespeare's_wife)\"},\n",
       "  'description': {'type': 'literal',\n",
       "   'xml:lang': 'en',\n",
       "   'value': 'English woman, wife of William Shakespeare'}}]"
      ]
     },
     "execution_count": 1,
     "metadata": {},
     "output_type": "execute_result"
    }
   ],
   "source": [
    "from SPARQLWrapper import SPARQLWrapper, JSON\n",
    "\n",
    "sparql = SPARQLWrapper('http://dbpedia.org/sparql')\n",
    "sparql.setQuery('''\n",
    "    select ?e ?type ?description\n",
    "    where { \n",
    "        ?e foaf:name \"Anne Hathaway\"@en.\n",
    "        ?e dct:description ?description.\n",
    "    }\n",
    "''')\n",
    "sparql.setReturnFormat(JSON)\n",
    "result = sparql.query().convert()\n",
    "result['results']['bindings']"
   ]
  }
 ],
 "metadata": {
  "kernelspec": {
   "display_name": "Python 3",
   "language": "python",
   "name": "python3"
  },
  "language_info": {
   "codemirror_mode": {
    "name": "ipython",
    "version": 3
   },
   "file_extension": ".py",
   "mimetype": "text/x-python",
   "name": "python",
   "nbconvert_exporter": "python",
   "pygments_lexer": "ipython3",
   "version": "3.7.1"
  }
 },
 "nbformat": 4,
 "nbformat_minor": 2
}

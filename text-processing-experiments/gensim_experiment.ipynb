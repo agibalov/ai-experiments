{
 "cells": [
  {
   "cell_type": "code",
   "execution_count": 1,
   "metadata": {},
   "outputs": [
    {
     "name": "stdout",
     "output_type": "stream",
     "text": [
      "\n",
      "2 topics:\n",
      "  Topic #0: 0.238*\"trump\" + 0.237*\"usa\" + 0.236*\"putin\" + 0.235*\"russia\" + 0.027*\"java\" + 0.027*\"oop\"\n",
      "    \"russia putin\"\n",
      "    \"usa trump\"\n",
      "    \"russia usa\"\n",
      "    \"russia putin trump\"\n",
      "    \"usa putin trump\"\n",
      "    \"russia usa putin trump\"\n",
      "  Topic #1: 0.284*\"oop\" + 0.284*\"java\" + 0.115*\"russia\" + 0.110*\"putin\" + 0.105*\"usa\" + 0.103*\"trump\"\n",
      "    \"java oop\"\n",
      "\n",
      "3 topics:\n",
      "  Topic #0: 0.342*\"usa\" + 0.334*\"trump\" + 0.082*\"putin\" + 0.081*\"russia\" + 0.080*\"java\" + 0.080*\"oop\"\n",
      "    \"usa trump\"\n",
      "  Topic #1: 0.331*\"oop\" + 0.331*\"java\" + 0.086*\"usa\" + 0.085*\"russia\" + 0.084*\"trump\" + 0.084*\"putin\"\n",
      "    \"java oop\"\n",
      "  Topic #2: 0.274*\"russia\" + 0.274*\"putin\" + 0.207*\"trump\" + 0.204*\"usa\" + 0.021*\"java\" + 0.021*\"oop\"\n",
      "    \"russia putin\"\n",
      "    \"russia usa\"\n",
      "    \"russia putin trump\"\n",
      "    \"usa putin trump\"\n",
      "    \"russia usa putin trump\"\n",
      "\n",
      "4 topics:\n",
      "  Topic #0: 0.359*\"usa\" + 0.356*\"russia\" + 0.071*\"trump\" + 0.071*\"putin\" + 0.071*\"java\" + 0.071*\"oop\"\n",
      "    \"russia usa\"\n",
      "  Topic #1: 0.167*\"usa\" + 0.167*\"trump\" + 0.167*\"putin\" + 0.167*\"oop\" + 0.167*\"java\" + 0.167*\"russia\"\n",
      "  Topic #2: 0.370*\"russia\" + 0.349*\"putin\" + 0.193*\"trump\" + 0.030*\"usa\" + 0.029*\"java\" + 0.029*\"oop\"\n",
      "    \"russia putin\"\n",
      "    \"russia putin trump\"\n",
      "  Topic #3: 0.310*\"usa\" + 0.274*\"trump\" + 0.145*\"putin\" + 0.120*\"java\" + 0.120*\"oop\" + 0.031*\"russia\"\n",
      "    \"usa trump\"\n",
      "    \"usa putin trump\"\n",
      "    \"java oop\"\n"
     ]
    }
   ],
   "source": [
    "import gensim\n",
    "\n",
    "documents = [\n",
    "    'russia putin',\n",
    "    'usa trump',\n",
    "    'russia usa',\n",
    "    'russia putin trump',\n",
    "    'usa putin trump',\n",
    "    'russia usa putin trump',\n",
    "    'java oop'\n",
    "]\n",
    "\n",
    "dictionary = gensim.corpora.Dictionary([document.split(' ') for document in documents])\n",
    "bow_corpus = [dictionary.doc2bow(document.split(' ')) for document in documents]\n",
    "\n",
    "for number_of_topics in [2, 3, 4]:\n",
    "    lda_model = gensim.models.LdaMulticore(\n",
    "        bow_corpus, \n",
    "        num_topics=number_of_topics, \n",
    "        id2word=dictionary, \n",
    "        passes=10, \n",
    "        workers=2)\n",
    "    \n",
    "    print(f'\\n{number_of_topics} topics:')\n",
    "    for (i, description) in lda_model.print_topics():\n",
    "        print(f'  Topic #{i}: {description}')\n",
    "        \n",
    "        for document_index, document in enumerate(documents):\n",
    "            document_bow = bow_corpus[document_index]\n",
    "            document_topics = lda_model.get_document_topics(document_bow, minimum_probability=0.7)\n",
    "            if not i in [x[0] for x in document_topics]:\n",
    "                continue\n",
    "            print(f'    \"{document}\"')"
   ]
  }
 ],
 "metadata": {
  "kernelspec": {
   "display_name": "Python 3",
   "language": "python",
   "name": "python3"
  },
  "language_info": {
   "codemirror_mode": {
    "name": "ipython",
    "version": 3
   },
   "file_extension": ".py",
   "mimetype": "text/x-python",
   "name": "python",
   "nbconvert_exporter": "python",
   "pygments_lexer": "ipython3",
   "version": "3.7.1"
  }
 },
 "nbformat": 4,
 "nbformat_minor": 2
}

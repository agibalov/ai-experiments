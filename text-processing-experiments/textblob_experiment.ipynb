{
 "cells": [
  {
   "cell_type": "code",
   "execution_count": 1,
   "metadata": {},
   "outputs": [
    {
     "name": "stdout",
     "output_type": "stream",
     "text": [
      "\n",
      "Noun phrases: ['gates', 'paul allen', 'microsoft', \"world 's\", 'personal', 'computer software company', 'gates', 'ceo', 'ceo', 'january', 'chief software architect', 'june', 'gates', 'part-time role', 'microsoft', 'full-time work', 'bill', 'melinda gates', 'private charitable foundation', 'melinda gates', 'ray ozzie', 'craig mundie', 'microsoft', 'february', 'new post', 'technology adviser', 'ceo satya nadella']\n",
      "\n",
      "Sentences: [Sentence(\"In 1975, Gates and Paul Allen launched Microsoft, \n",
      "which became the world's largest Personal computer software company.\"), Sentence(\"Gates led the company as chairman and CEO until stepping down as CEO \n",
      "in January 2000, but he remained chairman and became chief software \n",
      "architect.\"), Sentence(\"In June 2006, Gates announced that he would be transitioning \n",
      "to a part-time role at Microsoft and full-time work at the Bill & \n",
      "Melinda Gates Foundation, the private charitable foundation that he \n",
      "and his wife, Melinda Gates, established in 2000.\"), Sentence(\"He gradually \n",
      "transferred his duties to Ray Ozzie and Craig Mundie.\"), Sentence(\"He stepped down \n",
      "as chairman of Microsoft in February 2014 and assumed a new post as \n",
      "technology adviser to support the newly appointed CEO Satya Nadella.\")]\n",
      "\n",
      "Words of the 1st sentence: ['In', '1975', 'Gates', 'and', 'Paul', 'Allen', 'launched', 'Microsoft', 'which', 'became', 'the', 'world', \"'s\", 'largest', 'Personal', 'computer', 'software', 'company']\n",
      "\n",
      "Words:  ['In', '1975', 'Gates', 'and', 'Paul', 'Allen', 'launched', 'Microsoft', 'which', 'became', 'the', 'world', \"'s\", 'largest', 'Personal', 'computer', 'software', 'company', 'Gates', 'led', 'the', 'company', 'as', 'chairman', 'and', 'CEO', 'until', 'stepping', 'down', 'as', 'CEO', 'in', 'January', '2000', 'but', 'he', 'remained', 'chairman', 'and', 'became', 'chief', 'software', 'architect', 'In', 'June', '2006', 'Gates', 'announced', 'that', 'he', 'would', 'be', 'transitioning', 'to', 'a', 'part-time', 'role', 'at', 'Microsoft', 'and', 'full-time', 'work', 'at', 'the', 'Bill', 'Melinda', 'Gates', 'Foundation', 'the', 'private', 'charitable', 'foundation', 'that', 'he', 'and', 'his', 'wife', 'Melinda', 'Gates', 'established', 'in', '2000', 'He', 'gradually', 'transferred', 'his', 'duties', 'to', 'Ray', 'Ozzie', 'and', 'Craig', 'Mundie', 'He', 'stepped', 'down', 'as', 'chairman', 'of', 'Microsoft', 'in', 'February', '2014', 'and', 'assumed', 'a', 'new', 'post', 'as', 'technology', 'adviser', 'to', 'support', 'the', 'newly', 'appointed', 'CEO', 'Satya', 'Nadella']\n",
      "\n",
      "Count of \"gates\":  5\n"
     ]
    }
   ],
   "source": [
    "import nltk\n",
    "nltk.download('brown', quiet=True)\n",
    "\n",
    "from textblob import TextBlob\n",
    "\n",
    "blob = TextBlob('''In 1975, Gates and Paul Allen launched Microsoft, \n",
    "which became the world's largest Personal computer software company. \n",
    "Gates led the company as chairman and CEO until stepping down as CEO \n",
    "in January 2000, but he remained chairman and became chief software \n",
    "architect. In June 2006, Gates announced that he would be transitioning \n",
    "to a part-time role at Microsoft and full-time work at the Bill & \n",
    "Melinda Gates Foundation, the private charitable foundation that he \n",
    "and his wife, Melinda Gates, established in 2000. He gradually \n",
    "transferred his duties to Ray Ozzie and Craig Mundie. He stepped down \n",
    "as chairman of Microsoft in February 2014 and assumed a new post as \n",
    "technology adviser to support the newly appointed CEO Satya Nadella.''')\n",
    "\n",
    "print('\\nNoun phrases:', blob.noun_phrases)\n",
    "print('\\nSentences:', blob.sentences)\n",
    "print('\\nWords of the 1st sentence:', blob.sentences[0].words)\n",
    "print('\\nWords: ', blob.words)\n",
    "print('\\nCount of \"gates\": ', blob.words.count('gates'))"
   ]
  }
 ],
 "metadata": {
  "kernelspec": {
   "display_name": "Python 3",
   "language": "python",
   "name": "python3"
  },
  "language_info": {
   "codemirror_mode": {
    "name": "ipython",
    "version": 3
   },
   "file_extension": ".py",
   "mimetype": "text/x-python",
   "name": "python",
   "nbconvert_exporter": "python",
   "pygments_lexer": "ipython3",
   "version": "3.7.1"
  }
 },
 "nbformat": 4,
 "nbformat_minor": 2
}

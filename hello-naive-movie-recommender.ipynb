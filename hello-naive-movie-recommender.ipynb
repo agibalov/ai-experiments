{
 "cells": [
  {
   "cell_type": "code",
   "execution_count": 1,
   "metadata": {
    "collapsed": false
   },
   "outputs": [
    {
     "name": "stdout",
     "output_type": "stream",
     "text": [
      "matrix 6 users x 5 movies\n",
      "[[1 1 0 0 0]\n",
      " [1 1 1 0 0]\n",
      " [0 0 1 1 1]\n",
      " [1 1 1 0 1]\n",
      " [1 1 1 0 0]\n",
      " [1 1 0 0 0]]\n"
     ]
    }
   ],
   "source": [
    "import numpy as np\n",
    "\n",
    "np.set_printoptions(formatter={'float': '{: 0.2f}'.format})\n",
    "\n",
    "# users are vertical, movies are horizontal\n",
    "# 1 means user likes the movie and 0 means user doesn't know about the movie\n",
    "matrix = np.array([\n",
    "    [1, 1, 0, 0, 0],\n",
    "    [1, 1, 1, 0, 0],\n",
    "    [0, 0, 1, 1, 1],\n",
    "    [1, 1, 1, 0, 1],\n",
    "    [1, 1, 1, 0, 0],\n",
    "    [1, 1, 0, 0, 0]\n",
    "])\n",
    "\n",
    "numOfUsers, numOfMovies = matrix.shape\n",
    "\n",
    "print(\"matrix %d users x %d movies\" % (numOfUsers, numOfMovies))\n",
    "print(matrix)"
   ]
  },
  {
   "cell_type": "code",
   "execution_count": 2,
   "metadata": {
    "collapsed": false
   },
   "outputs": [
    {
     "name": "stdout",
     "output_type": "stream",
     "text": [
      "\n",
      "user distances\n",
      "[[ 0.00  0.18  1.00  0.29  0.18  0.00]\n",
      " [ 0.18  0.00  0.67  0.13  0.00  0.18]\n",
      " [ 1.00  0.67  0.00  0.42  0.67  1.00]\n",
      " [ 0.29  0.13  0.42  0.00  0.13  0.29]\n",
      " [ 0.18  0.00  0.67  0.13  0.00  0.18]\n",
      " [ 0.00  0.18  1.00  0.29  0.18  0.00]]\n",
      "distance between users 0 and 0 is 0.00\n",
      "distance between users 0 and 1 is 0.18\n",
      "distance between users 0 and 2 is 1.00\n",
      "\n",
      "movie distances\n",
      "[[ 0.00  0.00  0.33  1.00  0.68]\n",
      " [ 0.00  0.00  0.33  1.00  0.68]\n",
      " [ 0.33  0.33  0.00  0.50  0.29]\n",
      " [ 1.00  1.00  0.50  0.00  0.29]\n",
      " [ 0.68  0.68  0.29  0.29  0.00]]\n",
      "distance between movies 0 and 0 is 0.00\n",
      "distance between movies 0 and 1 is 0.00\n",
      "distance between movies 0 and 2 is 0.33\n",
      "distance between movies 0 and 3 is 1.00\n",
      "distance between movies 0 and 4 is 0.68\n"
     ]
    }
   ],
   "source": [
    "from sklearn.metrics.pairwise import pairwise_distances\n",
    "\n",
    "# the more distance is, the less similar things are\n",
    "\n",
    "userDistances = pairwise_distances(matrix, metric=\"cosine\")\n",
    "print(\"\\nuser distances\")\n",
    "print(userDistances)\n",
    "def printUserDistance(userDistances, userA, userB):\n",
    "    print(\"distance between users %d and %d is %0.2f\" % (userA, userB, userDistances[userA, userB]))\n",
    "printUserDistance(userDistances, 0, 0)\n",
    "printUserDistance(userDistances, 0, 1)\n",
    "printUserDistance(userDistances, 0, 2)\n",
    "\n",
    "movieDistances = pairwise_distances(matrix.T, metric=\"cosine\")\n",
    "print(\"\\nmovie distances\")\n",
    "print(movieDistances)\n",
    "def printMovieDistance(movieDistances, movieA, movieB):\n",
    "    print(\"distance between movies %d and %d is %0.2f\" % (movieA, movieB, movieDistances[movieA, movieB]))\n",
    "printMovieDistance(movieDistances, 0, 0)\n",
    "printMovieDistance(movieDistances, 0, 1)\n",
    "printMovieDistance(movieDistances, 0, 2)\n",
    "printMovieDistance(movieDistances, 0, 3)\n",
    "printMovieDistance(movieDistances, 0, 4)"
   ]
  },
  {
   "cell_type": "code",
   "execution_count": 9,
   "metadata": {
    "collapsed": false
   },
   "outputs": [
    {
     "name": "stdout",
     "output_type": "stream",
     "text": [
      "recommendations\n",
      "user 0 {2: 2.3400999430419995, 4: 0.70710678118654746}\n",
      "user 1 {4: 1.1993587371177723, 3: 0.33333333333333348}\n",
      "user 2 {0: 1.2440169358562927, 1: 1.2440169358562927}\n"
     ]
    }
   ],
   "source": [
    "from collections import namedtuple\n",
    "\n",
    "def findSimilarUsers(targetUserId):\n",
    "    distances = userDistances[targetUserId]\n",
    "    UserAndDistance = namedtuple(\"UserAndDistance\", [\"userId\", \"distance\"])\n",
    "    usersWithDistances = [UserAndDistance(userId, distance) for userId, distance in enumerate(distances)]\n",
    "    usersWithDistances = list(filter(lambda u: u.userId != targetUserId, usersWithDistances))\n",
    "    usersWithDistances = sorted(usersWithDistances, key=lambda u: u.distance)\n",
    "    return usersWithDistances\n",
    "\n",
    "def findMoviesLikedByUser(targetUserId):\n",
    "    movies = matrix[targetUserId]\n",
    "    LikedMovie = namedtuple(\"LikedMovie\", [\"movieId\", \"isLiked\"])\n",
    "    likedMovies = [LikedMovie(movieId, isLiked) for movieId, isLiked in enumerate(movies)]\n",
    "    likedMovies = list(filter(lambda m: m.isLiked, likedMovies))\n",
    "    return likedMovies\n",
    "    \n",
    "def recommendMoviesToUser(targetUserId):\n",
    "    moviesLikedByTargetUser = findMoviesLikedByUser(targetUserId)\n",
    "    idsOfMoviesLikedByTargetUser = list(map(lambda m: m.movieId, moviesLikedByTargetUser))\n",
    "    similarUsers = findSimilarUsers(targetUserId)\n",
    "    weightenedRecommendations = {}\n",
    "    for similarUser in similarUsers:\n",
    "        if similarUser.distance > 0.999:\n",
    "            continue\n",
    "            \n",
    "        moviesLikedBySimilarUser = findMoviesLikedByUser(similarUser.userId)\n",
    "        for movieLikedBySimilarUser in moviesLikedBySimilarUser:\n",
    "            likedMovieId = movieLikedBySimilarUser.movieId\n",
    "            weight = 1 - similarUser.distance\n",
    "            if not likedMovieId in weightenedRecommendations:\n",
    "                weightenedRecommendations[likedMovieId] = 0\n",
    "            weightenedRecommendations[likedMovieId] += weight\n",
    "    \n",
    "    for movieLikedByTargetUser in moviesLikedByTargetUser:\n",
    "        if movieLikedByTargetUser.movieId in weightenedRecommendations:\n",
    "            weightenedRecommendations.pop(movieLikedByTargetUser.movieId)\n",
    "    \n",
    "    return weightenedRecommendations\n",
    "    \n",
    "print(\"recommendations\")    \n",
    "print(\"user 0\", recommendMoviesToUser(0))\n",
    "print(\"user 1\", recommendMoviesToUser(1))\n",
    "print(\"user 2\", recommendMoviesToUser(2))"
   ]
  }
 ],
 "metadata": {
  "kernelspec": {
   "display_name": "Python 3",
   "language": "python",
   "name": "python3"
  },
  "language_info": {
   "codemirror_mode": {
    "name": "ipython",
    "version": 3
   },
   "file_extension": ".py",
   "mimetype": "text/x-python",
   "name": "python",
   "nbconvert_exporter": "python",
   "pygments_lexer": "ipython3",
   "version": "3.6.0"
  }
 },
 "nbformat": 4,
 "nbformat_minor": 2
}
